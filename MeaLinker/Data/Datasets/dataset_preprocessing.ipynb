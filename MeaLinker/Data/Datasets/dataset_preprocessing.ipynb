{
 "metadata": {
  "language_info": {
   "codemirror_mode": {
    "name": "ipython",
    "version": 3
   },
   "file_extension": ".py",
   "mimetype": "text/x-python",
   "name": "python",
   "nbconvert_exporter": "python",
   "pygments_lexer": "ipython3",
   "version": "3.7.10"
  },
  "orig_nbformat": 2,
  "kernelspec": {
   "name": "python3710jvsc74a57bd07cf73f7a8771bfb2eb0cf8b5ea45fad61b03c62581ad2e9da4f9b1f00a9190b7",
   "display_name": "Python 3.7.10 64-bit ('myenv': conda)"
  }
 },
 "nbformat": 4,
 "nbformat_minor": 2,
 "cells": [
  {
   "cell_type": "code",
   "execution_count": 1,
   "source": [
    "import pandas as pd\r\n",
    "import numpy\r\n",
    "\r\n",
    "def create_unique_ingr_file(ingredients):\r\n",
    "    replaced = \"\"\r\n",
    "    prev_id = -1\r\n",
    "\r\n",
    "    unique_ingr_file = open('unique_ingr_map.csv', 'w')\r\n",
    "    unique_ingr_file.write('id,name\\n')\r\n",
    "\r\n",
    "    for index, row in ingredients.iterrows():\r\n",
    "        if row['replaced'] != replaced:\r\n",
    "            if replaced != \"\" and prev_id != -1 and appropriate_field(replaced):\r\n",
    "                unique_ingr_file.write(str(prev_id) + ',' + replaced + '\\n')\r\n",
    "            replaced = row['replaced']\r\n",
    "            prev_id = row['id']\r\n",
    "\r\n",
    "    if replaced != \"\" and prev_id != -1:\r\n",
    "        unique_ingr_file.write(str(prev_id) + ',' + replaced + '\\n')\r\n",
    "\r\n",
    "    unique_ingr_file.close()\r\n",
    "\r\n",
    "def appropriate_field(line):\r\n",
    "    whitespace_count = 0\r\n",
    "\r\n",
    "    for character in line:\r\n",
    "        if character == ',':\r\n",
    "            return False\r\n",
    "        if character == ' ':\r\n",
    "            whitespace_count += 1\r\n",
    "\r\n",
    "    return whitespace_count + 1 < 6\r\n",
    "\r\n",
    "ingredients = pd.read_csv('ingr_map.csv')\r\n",
    "unique_ingredients = pd.read_csv('unique_ingr_map.csv')\r\n",
    "\r\n",
    "create_unique_ingr_file(ingredients)\r\n",
    "\r\n",
    "# raw_recipes = pd.read_csv('RAW_recipes.csv')\r\n",
    "# tokenized_recipes = pd.read_csv('PP_recipes.csv')"
   ],
   "outputs": [],
   "metadata": {}
  },
  {
   "cell_type": "code",
   "execution_count": null,
   "source": [],
   "outputs": [],
   "metadata": {}
  }
 ]
}